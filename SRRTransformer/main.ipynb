{
 "cells": [
  {
   "cell_type": "code",
   "execution_count": 8,
   "metadata": {},
   "outputs": [
    {
     "name": "stdout",
     "output_type": "stream",
     "text": [
      "Collecting varname\n",
      "  Downloading varname-0.12.2-py3-none-any.whl (24 kB)\n",
      "Collecting executing<3.0,>=2.0\n",
      "  Downloading executing-2.0.1-py2.py3-none-any.whl (24 kB)\n",
      "Installing collected packages: executing, varname\n",
      "  Attempting uninstall: executing\n",
      "    Found existing installation: executing 1.2.0\n",
      "    Uninstalling executing-1.2.0:\n",
      "      Successfully uninstalled executing-1.2.0\n",
      "Successfully installed executing-2.0.1 varname-0.12.2\n",
      "Note: you may need to restart the kernel to use updated packages.\n"
     ]
    }
   ],
   "source": [
    "# %pip install datasets\n",
    "# %pip install textdistance\n",
    "# %pip install edist\n",
    "%pip install varname"
   ]
  },
  {
   "cell_type": "code",
   "execution_count": 9,
   "metadata": {},
   "outputs": [
    {
     "ename": "ImportError",
     "evalue": "cannot import name 'argname2' from 'varname' (c:\\Users\\edwar\\anaconda3\\envs\\tensor\\lib\\site-packages\\varname\\__init__.py)",
     "output_type": "error",
     "traceback": [
      "\u001b[1;31m---------------------------------------------------------------------------\u001b[0m",
      "\u001b[1;31mImportError\u001b[0m                               Traceback (most recent call last)",
      "Cell \u001b[1;32mIn[9], line 1\u001b[0m\n\u001b[1;32m----> 1\u001b[0m \u001b[39mfrom\u001b[39;00m \u001b[39msrrtransformer\u001b[39;00m\u001b[39m.\u001b[39;00m\u001b[39mDNAmodel\u001b[39;00m \u001b[39mimport\u001b[39;00m DnaModel\n",
      "File \u001b[1;32mc:\\Users\\edwar\\Documents\\CSC2233\\SRRTransformer\\srrtransformer\\DNAmodel.py:14\u001b[0m\n\u001b[0;32m     12\u001b[0m \u001b[39mfrom\u001b[39;00m \u001b[39m.\u001b[39;00m\u001b[39mutils\u001b[39;00m \u001b[39mimport\u001b[39;00m batch_normalized_hamming_distance, kmer2seq, seq2kmer, seq2splits\n\u001b[0;32m     13\u001b[0m \u001b[39mfrom\u001b[39;00m \u001b[39m.\u001b[39;00m\u001b[39mconfiguration\u001b[39;00m \u001b[39mimport\u001b[39;00m read_config\n\u001b[1;32m---> 14\u001b[0m \u001b[39mfrom\u001b[39;00m \u001b[39m.\u001b[39;00m\u001b[39mdata_utils\u001b[39;00m \u001b[39mimport\u001b[39;00m Data2Dataset\n\u001b[0;32m     16\u001b[0m \u001b[39mif\u001b[39;00m torch\u001b[39m.\u001b[39mcuda\u001b[39m.\u001b[39mdevice_count() \u001b[39m>\u001b[39m \u001b[39m0\u001b[39m:\n\u001b[0;32m     17\u001b[0m     device \u001b[39m=\u001b[39m torch\u001b[39m.\u001b[39mdevice(\u001b[39m\"\u001b[39m\u001b[39mcuda\u001b[39m\u001b[39m\"\u001b[39m)\n",
      "File \u001b[1;32mc:\\Users\\edwar\\Documents\\CSC2233\\SRRTransformer\\srrtransformer\\data_utils.py:10\u001b[0m\n\u001b[0;32m      8\u001b[0m \u001b[39mimport\u001b[39;00m \u001b[39mnumpy\u001b[39;00m \u001b[39mas\u001b[39;00m \u001b[39mnp\u001b[39;00m\n\u001b[0;32m      9\u001b[0m \u001b[39mimport\u001b[39;00m \u001b[39mrandom\u001b[39;00m\n\u001b[1;32m---> 10\u001b[0m \u001b[39mfrom\u001b[39;00m \u001b[39mvarname\u001b[39;00m \u001b[39mimport\u001b[39;00m argname2 \n\u001b[0;32m     11\u001b[0m \u001b[39mfrom\u001b[39;00m \u001b[39m.\u001b[39;00m\u001b[39mutils\u001b[39;00m \u001b[39mimport\u001b[39;00m batch_normalized_hamming_distance,kmer2seq,seq2kmer,seq2splits\n\u001b[0;32m     12\u001b[0m \u001b[39mfrom\u001b[39;00m \u001b[39m.\u001b[39;00m\u001b[39mconfiguration\u001b[39;00m \u001b[39mimport\u001b[39;00m read_config\n",
      "\u001b[1;31mImportError\u001b[0m: cannot import name 'argname2' from 'varname' (c:\\Users\\edwar\\anaconda3\\envs\\tensor\\lib\\site-packages\\varname\\__init__.py)"
     ]
    }
   ],
   "source": [
    "from srrtransformer.DNAmodel import DnaModel"
   ]
  }
 ],
 "metadata": {
  "kernelspec": {
   "display_name": "tensor",
   "language": "python",
   "name": "python3"
  },
  "language_info": {
   "codemirror_mode": {
    "name": "ipython",
    "version": 3
   },
   "file_extension": ".py",
   "mimetype": "text/x-python",
   "name": "python",
   "nbconvert_exporter": "python",
   "pygments_lexer": "ipython3",
   "version": "3.9.13"
  },
  "orig_nbformat": 4
 },
 "nbformat": 4,
 "nbformat_minor": 2
}
